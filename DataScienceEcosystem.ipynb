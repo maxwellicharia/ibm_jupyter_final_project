{
 "cells": [
  {
   "cell_type": "markdown",
   "id": "861260ff-d01f-41c0-ad94-6ef99518374b",
   "metadata": {},
   "source": [
    "# Data Science Tools and Ecosystem"
   ]
  },
  {
   "cell_type": "markdown",
   "id": "39dbfb59-1910-4c3e-9e07-d64df4c26959",
   "metadata": {},
   "source": [
    "In this notebook, Data Science Tools and Ecosystem are summarized."
   ]
  },
  {
   "cell_type": "markdown",
   "id": "2b681736-2080-439e-a990-b25e9bc7c332",
   "metadata": {},
   "source": [
    "**Objectives:**\n",
    " * List popular languages data scientists use.\n",
    " * List commonly used libraries by data scientists.\n",
    " * List open-source data science tools.\n",
    " * Evaluate arithmetic operations in Python."
   ]
  },
  {
   "cell_type": "markdown",
   "id": "e91f2a31-6865-4a29-a79e-8f19699c3d22",
   "metadata": {},
   "source": [
    "Some of the popular languages that Data Scientists use are:\n",
    " 1. Python.\n",
    " 2. R.\n",
    " 3. Julia.\n",
    " 4. Scala.\n",
    " 5. Javascript."
   ]
  },
  {
   "cell_type": "markdown",
   "id": "908de019-9ceb-4498-9db5-174c6d9ba796",
   "metadata": {},
   "source": [
    "Some of the commonly used libraries used by Data Scientists include:\n",
    "1. ggplot.\n",
    "2. pandas.\n",
    "3. matplotlib.\n",
    "4. numpy."
   ]
  },
  {
   "cell_type": "markdown",
   "id": "899361e7-769d-43a3-bd2d-87c3a95afaf8",
   "metadata": {},
   "source": [
    "|Data Science Tools|\n",
    "|------------------|\n",
    "|Jupyter Lab       |\n",
    "|Visual Studio Code|\n",
    "|R Studio          |"
   ]
  },
  {
   "cell_type": "markdown",
   "id": "d86e2850-9c64-4de3-b284-49a6f747949a",
   "metadata": {},
   "source": [
    "### Below are a few examples of evaluating arithmetic expressions in Python"
   ]
  },
  {
   "cell_type": "code",
   "execution_count": 4,
   "id": "ea03b621-e610-4dff-94a1-f3c3f95d9a9e",
   "metadata": {},
   "outputs": [
    {
     "data": {
      "text/plain": [
       "17"
      ]
     },
     "execution_count": 4,
     "metadata": {},
     "output_type": "execute_result"
    }
   ],
   "source": [
    "# This a simple arithmetic expression to multiply and then add integers\n",
    "(3*4)+5"
   ]
  },
  {
   "cell_type": "code",
   "execution_count": 5,
   "id": "e6c173e0-5dd4-4179-9bac-ea00e72884db",
   "metadata": {},
   "outputs": [
    {
     "data": {
      "text/plain": [
       "3.3333333333333335"
      ]
     },
     "execution_count": 5,
     "metadata": {},
     "output_type": "execute_result"
    }
   ],
   "source": [
    "# This will convert 200 minutes to hours by diving by 60\n",
    "200/60"
   ]
  },
  {
   "cell_type": "markdown",
   "id": "9d459de7-4dc4-4347-81ec-1e5884a6d175",
   "metadata": {},
   "source": [
    "## Author\n",
    "Maxwell Kamau Icharia."
   ]
  }
 ],
 "metadata": {
  "kernelspec": {
   "display_name": "Python 3 (ipykernel)",
   "language": "python",
   "name": "python3"
  },
  "language_info": {
   "codemirror_mode": {
    "name": "ipython",
    "version": 3
   },
   "file_extension": ".py",
   "mimetype": "text/x-python",
   "name": "python",
   "nbconvert_exporter": "python",
   "pygments_lexer": "ipython3",
   "version": "3.10.12"
  }
 },
 "nbformat": 4,
 "nbformat_minor": 5
}
